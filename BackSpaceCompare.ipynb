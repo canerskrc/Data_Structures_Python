{
  "nbformat": 4,
  "nbformat_minor": 0,
  "metadata": {
    "colab": {
      "provenance": [],
      "authorship_tag": "ABX9TyOjsUhnOVlLDz/G8giD+K5s",
      "include_colab_link": true
    },
    "kernelspec": {
      "name": "python3",
      "display_name": "Python 3"
    },
    "language_info": {
      "name": "python"
    }
  },
  "cells": [
    {
      "cell_type": "markdown",
      "metadata": {
        "id": "view-in-github",
        "colab_type": "text"
      },
      "source": [
        "<a href=\"https://colab.research.google.com/github/canerskrc/Data_Structures_Python/blob/main/BackSpaceCompare.ipynb\" target=\"_parent\"><img src=\"https://colab.research.google.com/assets/colab-badge.svg\" alt=\"Open In Colab\"/></a>"
      ]
    },
    {
      "cell_type": "code",
      "execution_count": null,
      "metadata": {
        "id": "Qm4UHaseF3kA"
      },
      "outputs": [],
      "source": [
        "def backspaceCompare(s, t):\n",
        "    st_s = list()\n",
        "    st_t = list()\n",
        "\n",
        "    for c in s:\n",
        "        # To prevent the case that '#' comes at the very beginning of str\n",
        "        if not st_s and c == '#':\n",
        "            continue\n",
        "        elif c == '#':\n",
        "            st_s.pop()\n",
        "        else:\n",
        "            st_s.append(c)\n",
        "\n",
        "    for c in t:\n",
        "        if not st_t and c == '#':\n",
        "            continue\n",
        "        elif c == '#':\n",
        "            st_t.pop()\n",
        "        else:\n",
        "            st_t.append(c)\n",
        "\n",
        "    return ''.join(st_s) == ''.join(st_t)\n",
        "\n",
        "\n",
        "s = \"#ab#c\"\n",
        "t = \"#ad#c\"\n",
        "\n",
        "print(backspaceCompare(s,t))"
      ]
    }
  ]
}